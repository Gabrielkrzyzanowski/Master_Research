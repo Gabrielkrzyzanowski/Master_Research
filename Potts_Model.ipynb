{
 "cells": [
  {
   "cell_type": "markdown",
   "metadata": {},
   "source": [
    "## Numerically Solving the Potts Model "
   ]
  },
  {
   "cell_type": "code",
   "execution_count": 79,
   "metadata": {},
   "outputs": [],
   "source": [
    "import numpy as np\n",
    "from scipy.optimize import fsolve\n",
    "import matplotlib.pyplot as plt"
   ]
  },
  {
   "cell_type": "markdown",
   "metadata": {},
   "source": [
    "### Defining the free energy and its derivatives \n",
    "\n",
    "Here $f(m_x,m_y,\\beta J)=\\frac{\\beta J}{2}(m_x^2+m_y^2) + \\ln\\left( e^{\\beta Jm_x} + e^{-\\beta J\\frac{m_x}{2}}2\\cosh \\left( \\frac{\\sqrt{3}}{2}\\beta Jm_y \\right) \\right)$, and its derivatives are \n",
    "$$f_x(m_x,m_y, \\beta J)=\\beta Jm_x + \\frac{\\beta Je^{\\beta Jm_x}-\\beta J e^{-\\beta J \\frac{m_x}{2}}\\cosh \\left( \\frac{\\sqrt{3}}{2}\\beta Jm_y \\right)}{e^{\\beta Jm_x} + 2e^{-\\beta J\\frac{m_x}{2}}\\cosh \\left( \\frac{\\sqrt{3}}{2}\\beta Jm_y \\right)}$$\n",
    "$$f_y(m_x,m_y, \\beta J)=\\beta Jm_y + \\frac{\\sqrt{3}\\beta J e^{-\\beta J \\frac{m_x}{2}}\\sinh \\left( \\frac{\\sqrt{3}}{2}\\beta Jm_y \\right)}{e^{\\beta Jm_x} + 2e^{-\\beta J\\frac{m_x}{2}}\\cosh \\left( \\frac{\\sqrt{3}}{2}\\beta Jm_y \\right)}$$\n",
    "$$\n",
    "    f_{xx}(m_x,m_y, \\beta J)=\\beta J - \\frac{\\left( \\beta Je^{\\beta Jm_x}-\\beta J e^{-\\beta J \\frac{m_x}{2}}\\cosh \\left( \\frac{\\sqrt{3}}{2}\\beta Jm_y \\right) \\right)^2}{\\left( e^{\\beta Jm_x} + 2e^{-\\beta J\\frac{m_x}{2}}\\cosh \\left( \\frac{\\sqrt{3}}{2}\\beta Jm_y \\right) \\right)^2} + \\frac{(\\beta J)^2e^{\\beta Jm_x}+\\frac{(\\beta J)^2}{2} e^{-\\beta J \\frac{m_x}{2}}\\cosh \\left( \\frac{\\sqrt{3}}{2}\\beta Jm_y \\right)}{e^{\\beta Jm_x} + 2e^{-\\beta J\\frac{m_x}{2}}\\cosh \\left( \\frac{\\sqrt{3}}{2}\\beta Jm_y \\right)}\n",
    "$$\n",
    "$$\n",
    "    f_{yy}(m_x,m_y, \\beta J)=\\beta J + \\frac{3(\\beta J)^2 e^{-\\beta J \\frac{m_x}{2}}\\cosh \\left( \\frac{\\sqrt{3}}{2}\\beta Jm_y \\right)}{2\\left( e^{\\beta Jm_x} + 2e^{-\\beta J\\frac{m_x}{2}}\\cosh \\left( \\frac{\\sqrt{3}}{2}\\beta Jm_y \\right) \\right)} - \\frac{3(\\beta J)^2 e^{-\\beta J m_x}\\sinh^2 \\left( \\frac{\\sqrt{3}}{2}\\beta Jm_y \\right)}{\\left( e^{\\beta Jm_x} + 2e^{-\\beta J\\frac{m_x}{2}}\\cosh \\left( \\frac{\\sqrt{3}}{2}\\beta Jm_y \\right) \\right)^2}\n",
    "$$\n",
    "$$\n",
    "    f_{xy}(m_x,m_y, \\beta J)= -\\frac{\\sqrt{3}(\\beta J)^2 e^{-\\beta J \\frac{m_x}{2}}\\sinh \\left( \\frac{\\sqrt{3}}{2}\\beta Jm_y \\right)}{2\\left( e^{\\beta Jm_x} + 2e^{-\\beta J\\frac{m_x}{2}}\\cosh \\left( \\frac{\\sqrt{3}}{2}\\beta Jm_y \\right) \\right)} - \\frac{\\sqrt{3}\\beta J e^{-\\beta J \\frac{m_x}{2}}\\left(\\beta J e^{\\beta J m_x} - \\beta Je^{-\\beta J \\frac{m_x}{2}} \\cosh \\left( \\frac{\\sqrt{3}}{2}\\beta Jm_y \\right)\\right)\\sinh \\left( \\frac{\\sqrt{3}}{2}\\beta Jm_y \\right)}{\\left( e^{\\beta Jm_x} + 2e^{-\\beta J\\frac{m_x}{2}}\\cosh \\left( \\frac{\\sqrt{3}}{2}\\beta Jm_y \\right) \\right)^2}\n",
    "$$\n"
   ]
  },
  {
   "cell_type": "code",
   "execution_count": 84,
   "metadata": {},
   "outputs": [],
   "source": [
    "\n",
    "def f(m_x, m_y, T):\n",
    "    \"\"\"Calculate the function f(m_x, m_y, beta J).\"\"\"\n",
    "    term1 = 1/T * (m_x**2 + m_y**2) / 2\n",
    "    exp1 = np.exp(1/T * m_x)\n",
    "    exp2 = np.exp(-1/T * m_x / 2)\n",
    "    cosh_term = np.cosh(np.sqrt(3) * 1/T * m_y / 2)\n",
    "    term2 = np.log(exp1 + 2 * exp2 * cosh_term)\n",
    "    return term1 + term2\n",
    "\n",
    "def f_x(m, T):\n",
    "    m_x,m_y=m\n",
    "    \"\"\"Calculate the first derivative f_x.\"\"\"\n",
    "    exp1 = np.exp(1/T * m_x)\n",
    "    exp2 = np.exp(-1/T * m_x / 2)\n",
    "    cosh_term = np.cosh(np.sqrt(3) * 1/T * m_y / 2)\n",
    "    \n",
    "    numerator = 1/T * exp1 - 1/T * exp2 * cosh_term\n",
    "    denominator = exp1 + 2 * exp2 * cosh_term\n",
    "    return 1/T * m_x + numerator / denominator\n",
    "\n",
    "def f_y(m, T):\n",
    "    m_x,m_y=m\n",
    "    \"\"\"Calculate the first derivative f_y.\"\"\"\n",
    "    exp1 = np.exp(1/T * m_x)\n",
    "    exp2 = np.exp(-1/T * m_x / 2)\n",
    "    cosh_term = np.cosh(np.sqrt(3) * 1/T * m_y / 2)\n",
    "    sinh_term = np.sinh(np.sqrt(3) * 1/T * m_y / 2)\n",
    "    \n",
    "    numerator = np.sqrt(3) * 1/T * exp2 * sinh_term\n",
    "    denominator = exp1 + 2 * exp2 * cosh_term\n",
    "    return 1/T * m_y + numerator / denominator\n",
    "\n",
    "def f_xx(m_x, m_y, T):\n",
    "    \"\"\"Calculate the second derivative f_xx.\"\"\"\n",
    "    exp1 = np.exp(1/T * m_x)\n",
    "    exp2 = np.exp(-1/T * m_x / 2)\n",
    "    cosh_term = np.cosh(np.sqrt(3) * 1/T * m_y / 2)\n",
    "    \n",
    "    numerator1 = 1/T * exp1 - 1/T * exp2 * cosh_term\n",
    "    denominator = exp1 + 2 * exp2 * cosh_term\n",
    "    first_term = 1/T\n",
    "    second_term = -(numerator1**2) / (denominator**2)\n",
    "    \n",
    "    numerator2 = (1/T)**2 * exp1 + ((1/T)**2 / 2) * exp2 * cosh_term\n",
    "    return first_term + second_term + numerator2 / denominator\n",
    "\n",
    "def f_yy(m_x, m_y, T):\n",
    "    \"\"\"Calculate the second derivative f_yy.\"\"\"\n",
    "    exp1 = np.exp(1/T * m_x)\n",
    "    exp2 = np.exp(-1/T * m_x / 2)\n",
    "    cosh_term = np.cosh(np.sqrt(3) * 1/T * m_y / 2)\n",
    "    sinh_term = np.sinh(np.sqrt(3) * 1/T * m_y / 2)\n",
    "    \n",
    "    first_term = 1/T\n",
    "    second_term = 3 * ((1/T)**2) * exp2 * cosh_term / (2 * (exp1 + 2 * exp2 * cosh_term))\n",
    "    third_term = -3 * ((1/T)**2) * exp2 * sinh_term**2 / ((exp1 + 2 * exp2 * cosh_term)**2)\n",
    "    return first_term + second_term + third_term\n",
    "\n",
    "def f_xy(m_x, m_y, T):\n",
    "    \"\"\"Calculate the second derivative f_xy.\"\"\"\n",
    "    exp1 = np.exp(1/T * m_x)\n",
    "    exp2 = np.exp(-1/T * m_x / 2)\n",
    "    cosh_term = np.cosh(np.sqrt(3) * 1/T * m_y / 2)\n",
    "    sinh_term = np.sinh(np.sqrt(3) * 1/T * m_y / 2)\n",
    "    \n",
    "    first_term = -np.sqrt(3) * ((1/T)**2) * exp2 * sinh_term / (2 * (exp1 + 2 * exp2 * cosh_term))\n",
    "    \n",
    "    numerator = 1/T * exp1 - 1/T * exp2 * cosh_term\n",
    "    second_term = -np.sqrt(3) * 1/T * exp2 * numerator * sinh_term / ((exp1 + 2 * exp2 * cosh_term)**2)\n",
    "    return first_term + second_term\n"
   ]
  },
  {
   "cell_type": "markdown",
   "metadata": {},
   "source": [
    "### Defining the equations of state and the stability condition \n",
    "\n",
    "Now $(m_x,m_y)$ must satisfy the following set of conditions in order to minimize $f(m_x,m_y,t)$ \n",
    "$$f_x(m_x,m_y, t)=0, \\quad f_y(m_x,m_y, t)=0, $$\n",
    "$$f_{xx}(m_x,m_y, t)\\cdot f_{yy}(m_x,m_y, t) - (f_{xy}(m_x,m_y, t))^2 > 0, \\quad \\textrm{and} \\quad f_{xx}(m_x,m_y, t) >0.$$"
   ]
  },
  {
   "cell_type": "code",
   "execution_count": 140,
   "metadata": {},
   "outputs": [],
   "source": [
    "def first_eqs(m, T): \n",
    "    return f_x(m, T)==0\n",
    "\n",
    "def second_eqs(m, T): \n",
    "    return  f_y(m, T)==0\n",
    "\n",
    "def stability_condition(m_x, m_y, T): \n",
    "    return True if f_xx(m_x, m_y, T)*f_yy(m_x, m_y, T) - (f_xy(m_x, m_y, T))**2 and f_xx(m_x, m_y, T) > 0 else False "
   ]
  },
  {
   "cell_type": "code",
   "execution_count": 159,
   "metadata": {},
   "outputs": [],
   "source": [
    "# Solve for a range of temperatures\n",
    "T_vals = np.linspace(0.01, 2, 1000)\n",
    "m_x_vals = []\n",
    "m_y_vals = []\n",
    "\n",
    "for t in T_vals:\n",
    "    sol = fsolve(lambda m: [first_eqs(m, t), second_eqs(m, t)], [0, 0])  # Initial guess [0, 0]\n",
    "    m_x_vals.append(sol[0])\n",
    "    m_y_vals.append(sol[1]) \n",
    "\n",
    "for i in range(len(T_vals)): \n",
    "    if not stability_condition(m_x_vals[i],m_y_vals[i],T_vals[i]): \n",
    "        m_x_vals.pop(i)\n",
    "        m_y_vals.pop(i)\n",
    "        np.delete(T_vals,i)\n",
    "\n"
   ]
  },
  {
   "cell_type": "code",
   "execution_count": 160,
   "metadata": {},
   "outputs": [
    {
     "data": {
      "image/png": "[encoded data removed]",
      "text/plain": [
       "<Figure size 1000x600 with 1 Axes>"
      ]
     },
     "metadata": {},
     "output_type": "display_data"
    }
   ],
   "source": [
    "# Plot\n",
    "fig=plt.figure(figsize=(10, 6))\n",
    "plt.plot(T_vals, m_x_vals, label=r'$m_x$', color='blue')\n",
    "plt.plot(T_vals, m_y_vals, label=r'$m_y$', color='red')\n",
    "plt.xlabel('Temperature')\n",
    "plt.ylabel('Order Parameter')\n",
    "plt.legend()\n",
    "plt.grid(True)\n",
    "#plt.ylim(0, 1e-23)  # Adjusted limit to observe behavior at low T\n",
    "#plt.yticks(color='w')\n",
    "plt.show()"
   ]
  }
 ],
 "metadata": {
  "kernelspec": {
   "display_name": "base",
   "language": "python",
   "name": "python3"
  },
  "language_info": {
   "codemirror_mode": {
    "name": "ipython",
    "version": 3
   },
   "file_extension": ".py",
   "mimetype": "text/x-python",
   "name": "python",
   "nbconvert_exporter": "python",
   "pygments_lexer": "ipython3",
   "version": "3.12.4"
  }
 },
 "nbformat": 4,
 "nbformat_minor": 2
}
